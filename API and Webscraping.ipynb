{
 "cells": [
  {
   "cell_type": "markdown",
   "id": "c1212b4a",
   "metadata": {},
   "source": [
    "# GETTING DATA FROM API #\n"
   ]
  },
  {
   "cell_type": "markdown",
   "id": "78235125",
   "metadata": {},
   "source": [
    "This is the data wrangling exercise as part of the IBM Data Science course, however, I have done it differently to suit my personal style of data organisation and methodology. I do not like accessing urls multiple times, instead finding more convenience in initialising dictionaries and filling the relevant values in the datasets."
   ]
  },
  {
   "cell_type": "code",
   "execution_count": null,
   "id": "60f4de85",
   "metadata": {},
   "outputs": [],
   "source": [
    "import requests\n",
    "import pandas as pd\n",
    "from bs4 import BeautifulSoup\n",
    "import numpy as np\n",
    "import datetime as dt"
   ]
  },
  {
   "cell_type": "code",
   "execution_count": 271,
   "id": "b26c34d1",
   "metadata": {},
   "outputs": [],
   "source": [
    "pd.set_option('display.max_columns',None) #display all column names in the dataframe\n",
    "pd.set_option('display.max_colwidth',None) #display all the data in the dataframe"
   ]
  },
  {
   "cell_type": "code",
   "execution_count": 309,
   "id": "2d511820",
   "metadata": {},
   "outputs": [],
   "source": [
    "spacex_url = \"https://api.spacexdata.com/v4/launches/past\"\n",
    "spacex_req = requests.get(spacex_url) #using the API means we get a JSON file\n",
    "spacex_df = pd.json_normalize(spacex_req.json()) #basically the read json is json_normalize"
   ]
  },
  {
   "cell_type": "code",
   "execution_count": 310,
   "id": "3c2899c0",
   "metadata": {},
   "outputs": [],
   "source": [
    "spX = ['rocket','payloads','launchpad','cores','flight_number','date_utc']\n",
    "spacex_df = spacex_df[spX]"
   ]
  },
  {
   "cell_type": "markdown",
   "id": "86671649",
   "metadata": {},
   "source": [
    "Filtering the data as per the requirements:\n",
    "1. remove rows with multiple cores\n",
    "2. for payloads and cores, extract the single value in the list and replace the feature\n",
    "3. convert the date_utc to a datetime datatype and then extracting the date\n",
    "4. keep all the dates before (2020,11,13) "
   ]
  },
  {
   "cell_type": "code",
   "execution_count": 311,
   "id": "589e6dd1",
   "metadata": {},
   "outputs": [],
   "source": [
    "#Data preparation as per the requirements completed\n",
    "spacex_df = spacex_df[spacex_df.cores.map(len)==1]\n",
    "spacex_df['cores'] = spacex_df.cores.map(lambda x: x[0])\n",
    "spacex_df = spacex_df[spacex_df.payloads.map(len)==1]\n",
    "spacex_df['payloads'] = spacex_df.payloads.map(lambda x: x[0])\n",
    "\n",
    "spacex_df['date'] = pd.to_datetime(spacex_df['date_utc']).dt.date\n",
    "spacex_df = spacex_df[spacex_df.date <= dt.date(2020, 11, 13)]"
   ]
  },
  {
   "cell_type": "markdown",
   "id": "018eb1e3",
   "metadata": {},
   "source": [
    "Keeping only Falcon 9 rocket, using the text file to find the corresponding name and ID for Falcon 9"
   ]
  },
  {
   "cell_type": "code",
   "execution_count": 312,
   "id": "e36ba95f",
   "metadata": {},
   "outputs": [],
   "source": [
    "#to replace the 'rocket' column with the engine names and keep only Falcon9\n",
    "\n",
    "spacex_df['rocket'] = spacex_df['rocket'].replace('5e9d0d95eda69973a809d1ec','Falcon 9')\n",
    "spacex_df = spacex_df[spacex_df['rocket'] == 'Falcon 9'].reset_index().drop('index',axis=1)"
   ]
  },
  {
   "cell_type": "code",
   "execution_count": 313,
   "id": "9b88fa6f",
   "metadata": {},
   "outputs": [],
   "source": [
    "#dropping date_utc\n",
    "spacex_df = spacex_df.drop('date_utc',axis=1)"
   ]
  },
  {
   "cell_type": "code",
   "execution_count": 142,
   "id": "076ce3ab",
   "metadata": {},
   "outputs": [],
   "source": [
    "# Takes the dataset and uses the payloads column to call the API and append the data to the lists\n",
    "def getPayloadData(data):\n",
    "    for load in data['payloads']:\n",
    "        response = requests.get(\"https://api.spacexdata.com/v4/payloads/\"+load).json()\n",
    "        PayloadMass.append(response['mass_kg'])\n",
    "        Orbit.append(response['orbit'])"
   ]
  },
  {
   "cell_type": "markdown",
   "id": "24cdce2f",
   "metadata": {},
   "source": [
    "Getting the launch site details in a way I prefer, that actually matches the ids in the spacex_df with the corresponding location, and  you are only accessing the url once. I think this is much cleaner than the prescribed method."
   ]
  },
  {
   "cell_type": "code",
   "execution_count": 314,
   "id": "e4a3f391",
   "metadata": {},
   "outputs": [],
   "source": [
    "launch_url = \"https://api.spacexdata.com/v4/launchpads\"\n",
    "launch_response = requests.get(launch_url)"
   ]
  },
  {
   "cell_type": "code",
   "execution_count": 315,
   "id": "70b48d1d",
   "metadata": {},
   "outputs": [],
   "source": [
    "#launch_temp = pd.json_normalize(launch_response.json())\n",
    "#launch_temp = launch_temp[['name','id','latitude','longitude']]\n",
    "#temp = launch_temp.values\n",
    "locations, ids = list(temp[:,0]), list(temp[:,1])\n",
    "latitude, longitude = list(temp[:,2]), list(temp[:,3])"
   ]
  },
  {
   "cell_type": "code",
   "execution_count": 316,
   "id": "521fd1d8",
   "metadata": {},
   "outputs": [],
   "source": [
    "spacex_df['launchpad'] = spacex_df['launchpad'].replace(ids,locations)"
   ]
  },
  {
   "cell_type": "code",
   "execution_count": 317,
   "id": "8eec6df4",
   "metadata": {},
   "outputs": [
    {
     "data": {
      "text/html": [
       "<div>\n",
       "<style scoped>\n",
       "    .dataframe tbody tr th:only-of-type {\n",
       "        vertical-align: middle;\n",
       "    }\n",
       "\n",
       "    .dataframe tbody tr th {\n",
       "        vertical-align: top;\n",
       "    }\n",
       "\n",
       "    .dataframe thead th {\n",
       "        text-align: right;\n",
       "    }\n",
       "</style>\n",
       "<table border=\"1\" class=\"dataframe\">\n",
       "  <thead>\n",
       "    <tr style=\"text-align: right;\">\n",
       "      <th></th>\n",
       "      <th>rocket</th>\n",
       "      <th>payloads</th>\n",
       "      <th>launchpad</th>\n",
       "      <th>cores</th>\n",
       "      <th>flight_number</th>\n",
       "      <th>date</th>\n",
       "    </tr>\n",
       "  </thead>\n",
       "  <tbody>\n",
       "    <tr>\n",
       "      <th>0</th>\n",
       "      <td>Falcon 9</td>\n",
       "      <td>5eb0e4b7b6c3bb0006eeb1e7</td>\n",
       "      <td>CCSFS SLC 40</td>\n",
       "      <td>{'core': '5e9e289ef359185f2b3b2628', 'flight': 1, 'gridfins': False, 'legs': False, 'reused': False, 'landing_attempt': False, 'landing_success': None, 'landing_type': None, 'landpad': None}</td>\n",
       "      <td>6</td>\n",
       "      <td>2010-06-04</td>\n",
       "    </tr>\n",
       "    <tr>\n",
       "      <th>1</th>\n",
       "      <td>Falcon 9</td>\n",
       "      <td>5eb0e4bab6c3bb0006eeb1ea</td>\n",
       "      <td>CCSFS SLC 40</td>\n",
       "      <td>{'core': '5e9e289ef35918f39c3b262a', 'flight': 1, 'gridfins': False, 'legs': False, 'reused': False, 'landing_attempt': False, 'landing_success': None, 'landing_type': None, 'landpad': None}</td>\n",
       "      <td>8</td>\n",
       "      <td>2012-05-22</td>\n",
       "    </tr>\n",
       "    <tr>\n",
       "      <th>2</th>\n",
       "      <td>Falcon 9</td>\n",
       "      <td>5eb0e4bbb6c3bb0006eeb1ed</td>\n",
       "      <td>CCSFS SLC 40</td>\n",
       "      <td>{'core': '5e9e289ff3591884e03b262c', 'flight': 1, 'gridfins': False, 'legs': False, 'reused': False, 'landing_attempt': False, 'landing_success': None, 'landing_type': None, 'landpad': None}</td>\n",
       "      <td>10</td>\n",
       "      <td>2013-03-01</td>\n",
       "    </tr>\n",
       "    <tr>\n",
       "      <th>3</th>\n",
       "      <td>Falcon 9</td>\n",
       "      <td>5eb0e4bbb6c3bb0006eeb1ee</td>\n",
       "      <td>VAFB SLC 4E</td>\n",
       "      <td>{'core': '5e9e289ff359180ae23b262d', 'flight': 1, 'gridfins': False, 'legs': False, 'reused': False, 'landing_attempt': True, 'landing_success': False, 'landing_type': 'Ocean', 'landpad': None}</td>\n",
       "      <td>11</td>\n",
       "      <td>2013-09-29</td>\n",
       "    </tr>\n",
       "    <tr>\n",
       "      <th>4</th>\n",
       "      <td>Falcon 9</td>\n",
       "      <td>5eb0e4bbb6c3bb0006eeb1ef</td>\n",
       "      <td>CCSFS SLC 40</td>\n",
       "      <td>{'core': '5e9e289ff35918862c3b262e', 'flight': 1, 'gridfins': False, 'legs': False, 'reused': False, 'landing_attempt': False, 'landing_success': None, 'landing_type': None, 'landpad': None}</td>\n",
       "      <td>12</td>\n",
       "      <td>2013-12-03</td>\n",
       "    </tr>\n",
       "  </tbody>\n",
       "</table>\n",
       "</div>"
      ],
      "text/plain": [
       "     rocket                  payloads     launchpad  \\\n",
       "0  Falcon 9  5eb0e4b7b6c3bb0006eeb1e7  CCSFS SLC 40   \n",
       "1  Falcon 9  5eb0e4bab6c3bb0006eeb1ea  CCSFS SLC 40   \n",
       "2  Falcon 9  5eb0e4bbb6c3bb0006eeb1ed  CCSFS SLC 40   \n",
       "3  Falcon 9  5eb0e4bbb6c3bb0006eeb1ee   VAFB SLC 4E   \n",
       "4  Falcon 9  5eb0e4bbb6c3bb0006eeb1ef  CCSFS SLC 40   \n",
       "\n",
       "                                                                                                                                                                                               cores  \\\n",
       "0     {'core': '5e9e289ef359185f2b3b2628', 'flight': 1, 'gridfins': False, 'legs': False, 'reused': False, 'landing_attempt': False, 'landing_success': None, 'landing_type': None, 'landpad': None}   \n",
       "1     {'core': '5e9e289ef35918f39c3b262a', 'flight': 1, 'gridfins': False, 'legs': False, 'reused': False, 'landing_attempt': False, 'landing_success': None, 'landing_type': None, 'landpad': None}   \n",
       "2     {'core': '5e9e289ff3591884e03b262c', 'flight': 1, 'gridfins': False, 'legs': False, 'reused': False, 'landing_attempt': False, 'landing_success': None, 'landing_type': None, 'landpad': None}   \n",
       "3  {'core': '5e9e289ff359180ae23b262d', 'flight': 1, 'gridfins': False, 'legs': False, 'reused': False, 'landing_attempt': True, 'landing_success': False, 'landing_type': 'Ocean', 'landpad': None}   \n",
       "4     {'core': '5e9e289ff35918862c3b262e', 'flight': 1, 'gridfins': False, 'legs': False, 'reused': False, 'landing_attempt': False, 'landing_success': None, 'landing_type': None, 'landpad': None}   \n",
       "\n",
       "   flight_number        date  \n",
       "0              6  2010-06-04  \n",
       "1              8  2012-05-22  \n",
       "2             10  2013-03-01  \n",
       "3             11  2013-09-29  \n",
       "4             12  2013-12-03  "
      ]
     },
     "execution_count": 317,
     "metadata": {},
     "output_type": "execute_result"
    }
   ],
   "source": [
    "spacex_df.head()"
   ]
  },
  {
   "cell_type": "code",
   "execution_count": 318,
   "id": "028ff92f",
   "metadata": {},
   "outputs": [
    {
     "data": {
      "text/plain": [
       "dict_keys(['core', 'flight', 'gridfins', 'legs', 'reused', 'landing_attempt', 'landing_success', 'landing_type', 'landpad'])"
      ]
     },
     "execution_count": 318,
     "metadata": {},
     "output_type": "execute_result"
    }
   ],
   "source": [
    "spacex_df.cores[0].keys()"
   ]
  },
  {
   "cell_type": "markdown",
   "id": "adaaaf36",
   "metadata": {},
   "source": [
    "Making a separate for the cores to be added to spacex_df later"
   ]
  },
  {
   "cell_type": "code",
   "execution_count": 319,
   "id": "30ccddfb",
   "metadata": {},
   "outputs": [],
   "source": [
    "#developing the dataframe for cores\n",
    "cores_df = pd.DataFrame(columns = list(spacex_df.cores[0].keys()))\n",
    "for ix in range(spacex_df.shape[0]):\n",
    "    cores_df = cores_df.append(spacex_df.cores.iloc[ix],ignore_index=True)\n",
    "cores_df = cores_df.reset_index().drop('index',axis=1)"
   ]
  },
  {
   "cell_type": "code",
   "execution_count": 320,
   "id": "4e235a48",
   "metadata": {},
   "outputs": [
    {
     "data": {
      "text/plain": [
       "True"
      ]
     },
     "execution_count": 320,
     "metadata": {},
     "output_type": "execute_result"
    }
   ],
   "source": [
    "cores_df.shape[0] ==spacex_df.shape[0]"
   ]
  },
  {
   "cell_type": "code",
   "execution_count": 321,
   "id": "04315e02",
   "metadata": {},
   "outputs": [
    {
     "data": {
      "text/html": [
       "<div>\n",
       "<style scoped>\n",
       "    .dataframe tbody tr th:only-of-type {\n",
       "        vertical-align: middle;\n",
       "    }\n",
       "\n",
       "    .dataframe tbody tr th {\n",
       "        vertical-align: top;\n",
       "    }\n",
       "\n",
       "    .dataframe thead th {\n",
       "        text-align: right;\n",
       "    }\n",
       "</style>\n",
       "<table border=\"1\" class=\"dataframe\">\n",
       "  <thead>\n",
       "    <tr style=\"text-align: right;\">\n",
       "      <th></th>\n",
       "      <th>core</th>\n",
       "      <th>flight</th>\n",
       "      <th>gridfins</th>\n",
       "      <th>legs</th>\n",
       "      <th>reused</th>\n",
       "      <th>landing_attempt</th>\n",
       "      <th>landing_success</th>\n",
       "      <th>landing_type</th>\n",
       "      <th>landpad</th>\n",
       "    </tr>\n",
       "  </thead>\n",
       "  <tbody>\n",
       "    <tr>\n",
       "      <th>0</th>\n",
       "      <td>5e9e289ef359185f2b3b2628</td>\n",
       "      <td>1</td>\n",
       "      <td>False</td>\n",
       "      <td>False</td>\n",
       "      <td>False</td>\n",
       "      <td>False</td>\n",
       "      <td>None</td>\n",
       "      <td>None</td>\n",
       "      <td>None</td>\n",
       "    </tr>\n",
       "    <tr>\n",
       "      <th>1</th>\n",
       "      <td>5e9e289ef35918f39c3b262a</td>\n",
       "      <td>1</td>\n",
       "      <td>False</td>\n",
       "      <td>False</td>\n",
       "      <td>False</td>\n",
       "      <td>False</td>\n",
       "      <td>None</td>\n",
       "      <td>None</td>\n",
       "      <td>None</td>\n",
       "    </tr>\n",
       "    <tr>\n",
       "      <th>2</th>\n",
       "      <td>5e9e289ff3591884e03b262c</td>\n",
       "      <td>1</td>\n",
       "      <td>False</td>\n",
       "      <td>False</td>\n",
       "      <td>False</td>\n",
       "      <td>False</td>\n",
       "      <td>None</td>\n",
       "      <td>None</td>\n",
       "      <td>None</td>\n",
       "    </tr>\n",
       "    <tr>\n",
       "      <th>3</th>\n",
       "      <td>5e9e289ff359180ae23b262d</td>\n",
       "      <td>1</td>\n",
       "      <td>False</td>\n",
       "      <td>False</td>\n",
       "      <td>False</td>\n",
       "      <td>True</td>\n",
       "      <td>False</td>\n",
       "      <td>Ocean</td>\n",
       "      <td>None</td>\n",
       "    </tr>\n",
       "    <tr>\n",
       "      <th>4</th>\n",
       "      <td>5e9e289ff35918862c3b262e</td>\n",
       "      <td>1</td>\n",
       "      <td>False</td>\n",
       "      <td>False</td>\n",
       "      <td>False</td>\n",
       "      <td>False</td>\n",
       "      <td>None</td>\n",
       "      <td>None</td>\n",
       "      <td>None</td>\n",
       "    </tr>\n",
       "  </tbody>\n",
       "</table>\n",
       "</div>"
      ],
      "text/plain": [
       "                       core flight gridfins   legs reused landing_attempt  \\\n",
       "0  5e9e289ef359185f2b3b2628      1    False  False  False           False   \n",
       "1  5e9e289ef35918f39c3b262a      1    False  False  False           False   \n",
       "2  5e9e289ff3591884e03b262c      1    False  False  False           False   \n",
       "3  5e9e289ff359180ae23b262d      1    False  False  False            True   \n",
       "4  5e9e289ff35918862c3b262e      1    False  False  False           False   \n",
       "\n",
       "  landing_success landing_type landpad  \n",
       "0            None         None    None  \n",
       "1            None         None    None  \n",
       "2            None         None    None  \n",
       "3           False        Ocean    None  \n",
       "4            None         None    None  "
      ]
     },
     "execution_count": 321,
     "metadata": {},
     "output_type": "execute_result"
    }
   ],
   "source": [
    "cores_df.head()"
   ]
  },
  {
   "cell_type": "markdown",
   "id": "012c48f0",
   "metadata": {},
   "source": [
    "From the head comparisons of spacex_df and cores_df, it is clear that the cores id matches the cores_df core column. Thus, we can move forward with concatenating the datasets."
   ]
  },
  {
   "cell_type": "code",
   "execution_count": 322,
   "id": "51635364",
   "metadata": {},
   "outputs": [
    {
     "data": {
      "text/html": [
       "<div>\n",
       "<style scoped>\n",
       "    .dataframe tbody tr th:only-of-type {\n",
       "        vertical-align: middle;\n",
       "    }\n",
       "\n",
       "    .dataframe tbody tr th {\n",
       "        vertical-align: top;\n",
       "    }\n",
       "\n",
       "    .dataframe thead th {\n",
       "        text-align: right;\n",
       "    }\n",
       "</style>\n",
       "<table border=\"1\" class=\"dataframe\">\n",
       "  <thead>\n",
       "    <tr style=\"text-align: right;\">\n",
       "      <th></th>\n",
       "      <th>flight</th>\n",
       "      <th>gridfins</th>\n",
       "      <th>legs</th>\n",
       "      <th>reused</th>\n",
       "      <th>landing_attempt</th>\n",
       "      <th>landing_success</th>\n",
       "      <th>landing_type</th>\n",
       "      <th>landpad</th>\n",
       "    </tr>\n",
       "  </thead>\n",
       "  <tbody>\n",
       "    <tr>\n",
       "      <th>0</th>\n",
       "      <td>1</td>\n",
       "      <td>False</td>\n",
       "      <td>False</td>\n",
       "      <td>False</td>\n",
       "      <td>False</td>\n",
       "      <td>None</td>\n",
       "      <td>None</td>\n",
       "      <td>None</td>\n",
       "    </tr>\n",
       "    <tr>\n",
       "      <th>1</th>\n",
       "      <td>1</td>\n",
       "      <td>False</td>\n",
       "      <td>False</td>\n",
       "      <td>False</td>\n",
       "      <td>False</td>\n",
       "      <td>None</td>\n",
       "      <td>None</td>\n",
       "      <td>None</td>\n",
       "    </tr>\n",
       "    <tr>\n",
       "      <th>2</th>\n",
       "      <td>1</td>\n",
       "      <td>False</td>\n",
       "      <td>False</td>\n",
       "      <td>False</td>\n",
       "      <td>False</td>\n",
       "      <td>None</td>\n",
       "      <td>None</td>\n",
       "      <td>None</td>\n",
       "    </tr>\n",
       "    <tr>\n",
       "      <th>3</th>\n",
       "      <td>1</td>\n",
       "      <td>False</td>\n",
       "      <td>False</td>\n",
       "      <td>False</td>\n",
       "      <td>True</td>\n",
       "      <td>False</td>\n",
       "      <td>Ocean</td>\n",
       "      <td>None</td>\n",
       "    </tr>\n",
       "    <tr>\n",
       "      <th>4</th>\n",
       "      <td>1</td>\n",
       "      <td>False</td>\n",
       "      <td>False</td>\n",
       "      <td>False</td>\n",
       "      <td>False</td>\n",
       "      <td>None</td>\n",
       "      <td>None</td>\n",
       "      <td>None</td>\n",
       "    </tr>\n",
       "  </tbody>\n",
       "</table>\n",
       "</div>"
      ],
      "text/plain": [
       "  flight gridfins   legs reused landing_attempt landing_success landing_type  \\\n",
       "0      1    False  False  False           False            None         None   \n",
       "1      1    False  False  False           False            None         None   \n",
       "2      1    False  False  False           False            None         None   \n",
       "3      1    False  False  False            True           False        Ocean   \n",
       "4      1    False  False  False           False            None         None   \n",
       "\n",
       "  landpad  \n",
       "0    None  \n",
       "1    None  \n",
       "2    None  \n",
       "3    None  \n",
       "4    None  "
      ]
     },
     "execution_count": 322,
     "metadata": {},
     "output_type": "execute_result"
    }
   ],
   "source": [
    "cores_df = cores_df.drop('core',axis=1)\n",
    "cores_df.head()"
   ]
  },
  {
   "cell_type": "markdown",
   "id": "3fcaf009",
   "metadata": {},
   "source": [
    "*putting in the landpad sites*"
   ]
  },
  {
   "cell_type": "code",
   "execution_count": 323,
   "id": "14fb1494",
   "metadata": {},
   "outputs": [],
   "source": [
    "temp_df = pd.concat([spacex_df,cores_df],axis=1)"
   ]
  },
  {
   "cell_type": "code",
   "execution_count": 324,
   "id": "4cd87380",
   "metadata": {},
   "outputs": [],
   "source": [
    "spacex_df = temp_df.copy()"
   ]
  },
  {
   "cell_type": "code",
   "execution_count": 325,
   "id": "192879a2",
   "metadata": {
    "scrolled": true
   },
   "outputs": [
    {
     "data": {
      "text/html": [
       "<div>\n",
       "<style scoped>\n",
       "    .dataframe tbody tr th:only-of-type {\n",
       "        vertical-align: middle;\n",
       "    }\n",
       "\n",
       "    .dataframe tbody tr th {\n",
       "        vertical-align: top;\n",
       "    }\n",
       "\n",
       "    .dataframe thead th {\n",
       "        text-align: right;\n",
       "    }\n",
       "</style>\n",
       "<table border=\"1\" class=\"dataframe\">\n",
       "  <thead>\n",
       "    <tr style=\"text-align: right;\">\n",
       "      <th></th>\n",
       "      <th>rocket</th>\n",
       "      <th>payloads</th>\n",
       "      <th>launchpad</th>\n",
       "      <th>cores</th>\n",
       "      <th>flight_number</th>\n",
       "      <th>date</th>\n",
       "      <th>flight</th>\n",
       "      <th>gridfins</th>\n",
       "      <th>legs</th>\n",
       "      <th>reused</th>\n",
       "      <th>landing_attempt</th>\n",
       "      <th>landing_success</th>\n",
       "      <th>landing_type</th>\n",
       "      <th>landpad</th>\n",
       "    </tr>\n",
       "  </thead>\n",
       "  <tbody>\n",
       "    <tr>\n",
       "      <th>0</th>\n",
       "      <td>Falcon 9</td>\n",
       "      <td>5eb0e4b7b6c3bb0006eeb1e7</td>\n",
       "      <td>CCSFS SLC 40</td>\n",
       "      <td>{'core': '5e9e289ef359185f2b3b2628', 'flight': 1, 'gridfins': False, 'legs': False, 'reused': False, 'landing_attempt': False, 'landing_success': None, 'landing_type': None, 'landpad': None}</td>\n",
       "      <td>6</td>\n",
       "      <td>2010-06-04</td>\n",
       "      <td>1</td>\n",
       "      <td>False</td>\n",
       "      <td>False</td>\n",
       "      <td>False</td>\n",
       "      <td>False</td>\n",
       "      <td>None</td>\n",
       "      <td>None</td>\n",
       "      <td>None</td>\n",
       "    </tr>\n",
       "    <tr>\n",
       "      <th>1</th>\n",
       "      <td>Falcon 9</td>\n",
       "      <td>5eb0e4bab6c3bb0006eeb1ea</td>\n",
       "      <td>CCSFS SLC 40</td>\n",
       "      <td>{'core': '5e9e289ef35918f39c3b262a', 'flight': 1, 'gridfins': False, 'legs': False, 'reused': False, 'landing_attempt': False, 'landing_success': None, 'landing_type': None, 'landpad': None}</td>\n",
       "      <td>8</td>\n",
       "      <td>2012-05-22</td>\n",
       "      <td>1</td>\n",
       "      <td>False</td>\n",
       "      <td>False</td>\n",
       "      <td>False</td>\n",
       "      <td>False</td>\n",
       "      <td>None</td>\n",
       "      <td>None</td>\n",
       "      <td>None</td>\n",
       "    </tr>\n",
       "    <tr>\n",
       "      <th>2</th>\n",
       "      <td>Falcon 9</td>\n",
       "      <td>5eb0e4bbb6c3bb0006eeb1ed</td>\n",
       "      <td>CCSFS SLC 40</td>\n",
       "      <td>{'core': '5e9e289ff3591884e03b262c', 'flight': 1, 'gridfins': False, 'legs': False, 'reused': False, 'landing_attempt': False, 'landing_success': None, 'landing_type': None, 'landpad': None}</td>\n",
       "      <td>10</td>\n",
       "      <td>2013-03-01</td>\n",
       "      <td>1</td>\n",
       "      <td>False</td>\n",
       "      <td>False</td>\n",
       "      <td>False</td>\n",
       "      <td>False</td>\n",
       "      <td>None</td>\n",
       "      <td>None</td>\n",
       "      <td>None</td>\n",
       "    </tr>\n",
       "    <tr>\n",
       "      <th>3</th>\n",
       "      <td>Falcon 9</td>\n",
       "      <td>5eb0e4bbb6c3bb0006eeb1ee</td>\n",
       "      <td>VAFB SLC 4E</td>\n",
       "      <td>{'core': '5e9e289ff359180ae23b262d', 'flight': 1, 'gridfins': False, 'legs': False, 'reused': False, 'landing_attempt': True, 'landing_success': False, 'landing_type': 'Ocean', 'landpad': None}</td>\n",
       "      <td>11</td>\n",
       "      <td>2013-09-29</td>\n",
       "      <td>1</td>\n",
       "      <td>False</td>\n",
       "      <td>False</td>\n",
       "      <td>False</td>\n",
       "      <td>True</td>\n",
       "      <td>False</td>\n",
       "      <td>Ocean</td>\n",
       "      <td>None</td>\n",
       "    </tr>\n",
       "    <tr>\n",
       "      <th>4</th>\n",
       "      <td>Falcon 9</td>\n",
       "      <td>5eb0e4bbb6c3bb0006eeb1ef</td>\n",
       "      <td>CCSFS SLC 40</td>\n",
       "      <td>{'core': '5e9e289ff35918862c3b262e', 'flight': 1, 'gridfins': False, 'legs': False, 'reused': False, 'landing_attempt': False, 'landing_success': None, 'landing_type': None, 'landpad': None}</td>\n",
       "      <td>12</td>\n",
       "      <td>2013-12-03</td>\n",
       "      <td>1</td>\n",
       "      <td>False</td>\n",
       "      <td>False</td>\n",
       "      <td>False</td>\n",
       "      <td>False</td>\n",
       "      <td>None</td>\n",
       "      <td>None</td>\n",
       "      <td>None</td>\n",
       "    </tr>\n",
       "  </tbody>\n",
       "</table>\n",
       "</div>"
      ],
      "text/plain": [
       "     rocket                  payloads     launchpad  \\\n",
       "0  Falcon 9  5eb0e4b7b6c3bb0006eeb1e7  CCSFS SLC 40   \n",
       "1  Falcon 9  5eb0e4bab6c3bb0006eeb1ea  CCSFS SLC 40   \n",
       "2  Falcon 9  5eb0e4bbb6c3bb0006eeb1ed  CCSFS SLC 40   \n",
       "3  Falcon 9  5eb0e4bbb6c3bb0006eeb1ee   VAFB SLC 4E   \n",
       "4  Falcon 9  5eb0e4bbb6c3bb0006eeb1ef  CCSFS SLC 40   \n",
       "\n",
       "                                                                                                                                                                                               cores  \\\n",
       "0     {'core': '5e9e289ef359185f2b3b2628', 'flight': 1, 'gridfins': False, 'legs': False, 'reused': False, 'landing_attempt': False, 'landing_success': None, 'landing_type': None, 'landpad': None}   \n",
       "1     {'core': '5e9e289ef35918f39c3b262a', 'flight': 1, 'gridfins': False, 'legs': False, 'reused': False, 'landing_attempt': False, 'landing_success': None, 'landing_type': None, 'landpad': None}   \n",
       "2     {'core': '5e9e289ff3591884e03b262c', 'flight': 1, 'gridfins': False, 'legs': False, 'reused': False, 'landing_attempt': False, 'landing_success': None, 'landing_type': None, 'landpad': None}   \n",
       "3  {'core': '5e9e289ff359180ae23b262d', 'flight': 1, 'gridfins': False, 'legs': False, 'reused': False, 'landing_attempt': True, 'landing_success': False, 'landing_type': 'Ocean', 'landpad': None}   \n",
       "4     {'core': '5e9e289ff35918862c3b262e', 'flight': 1, 'gridfins': False, 'legs': False, 'reused': False, 'landing_attempt': False, 'landing_success': None, 'landing_type': None, 'landpad': None}   \n",
       "\n",
       "   flight_number        date flight gridfins   legs reused landing_attempt  \\\n",
       "0              6  2010-06-04      1    False  False  False           False   \n",
       "1              8  2012-05-22      1    False  False  False           False   \n",
       "2             10  2013-03-01      1    False  False  False           False   \n",
       "3             11  2013-09-29      1    False  False  False            True   \n",
       "4             12  2013-12-03      1    False  False  False           False   \n",
       "\n",
       "  landing_success landing_type landpad  \n",
       "0            None         None    None  \n",
       "1            None         None    None  \n",
       "2            None         None    None  \n",
       "3           False        Ocean    None  \n",
       "4            None         None    None  "
      ]
     },
     "execution_count": 325,
     "metadata": {},
     "output_type": "execute_result"
    }
   ],
   "source": [
    "spacex_df.head()"
   ]
  },
  {
   "cell_type": "markdown",
   "id": "07cc15d9",
   "metadata": {},
   "source": [
    "Working with payload data to get the columns for payload mass and orbit"
   ]
  },
  {
   "cell_type": "code",
   "execution_count": 328,
   "id": "c85b79bd",
   "metadata": {},
   "outputs": [],
   "source": [
    "payload_url = \"https://api.spacexdata.com/v4/payloads\"\n",
    "payload_response = requests.get(payload_url)"
   ]
  },
  {
   "cell_type": "code",
   "execution_count": 329,
   "id": "6b917d7d",
   "metadata": {},
   "outputs": [],
   "source": [
    "payload = pd.json_normalize(payload_response.json())"
   ]
  },
  {
   "cell_type": "code",
   "execution_count": 426,
   "id": "69e15dc2",
   "metadata": {},
   "outputs": [],
   "source": [
    "payload_temp = pd.json_normalize(payload_response.json())\n",
    "payload_temp = payload_temp[['mass_kg','orbit','id']]\n",
    "launch_id, mass_kg, orbit = list(payload_temp.id), list(payload_temp.mass_kg), list(payload_temp.orbit)"
   ]
  },
  {
   "cell_type": "code",
   "execution_count": 427,
   "id": "b2dc3c35",
   "metadata": {},
   "outputs": [],
   "source": [
    "temp_df = spacex_df.copy()"
   ]
  },
  {
   "cell_type": "code",
   "execution_count": 430,
   "id": "6e336029",
   "metadata": {},
   "outputs": [],
   "source": [
    "#create a dictionary with orbits against payload ids\n",
    "orbit_dict = {}\n",
    "for orbit in list(set(payload_temp.orbit.values)):\n",
    "    orbit_dict[orbit] = list(payload_temp[payload_temp['orbit']==orbit]['id'].values)\n"
   ]
  },
  {
   "cell_type": "code",
   "execution_count": 439,
   "id": "21c7c759",
   "metadata": {},
   "outputs": [],
   "source": [
    "#create a dictionary with mass against payload ids\n",
    "mass_dict = {}\n",
    "for mass in list(set(payload_temp.mass_kg.values)):\n",
    "    mass_dict[mass] = list(payload_temp[payload_temp['mass_kg']==mass]['id'].values)"
   ]
  },
  {
   "cell_type": "code",
   "execution_count": 437,
   "id": "bc7d7812",
   "metadata": {},
   "outputs": [],
   "source": [
    "for key in orbit_dict.keys():\n",
    "    orbit_list = orbit_dict[key]\n",
    "    temp_df['orbit'] = temp_df['orbit'].replace(orbit_list,key)\n"
   ]
  },
  {
   "cell_type": "code",
   "execution_count": 440,
   "id": "8f87dbae",
   "metadata": {},
   "outputs": [],
   "source": [
    "for key in mass_dict.keys():\n",
    "    mass_list = mass_dict[key]\n",
    "    temp_df['mass_kg'] = temp_df['mass_kg'].replace(mass_list,key)"
   ]
  },
  {
   "cell_type": "code",
   "execution_count": 457,
   "id": "b06da679",
   "metadata": {},
   "outputs": [
    {
     "data": {
      "text/html": [
       "<div>\n",
       "<style scoped>\n",
       "    .dataframe tbody tr th:only-of-type {\n",
       "        vertical-align: middle;\n",
       "    }\n",
       "\n",
       "    .dataframe tbody tr th {\n",
       "        vertical-align: top;\n",
       "    }\n",
       "\n",
       "    .dataframe thead th {\n",
       "        text-align: right;\n",
       "    }\n",
       "</style>\n",
       "<table border=\"1\" class=\"dataframe\">\n",
       "  <thead>\n",
       "    <tr style=\"text-align: right;\">\n",
       "      <th></th>\n",
       "      <th>rocket</th>\n",
       "      <th>payloads</th>\n",
       "      <th>launchpad</th>\n",
       "      <th>cores</th>\n",
       "      <th>flight_number</th>\n",
       "      <th>date</th>\n",
       "      <th>flight</th>\n",
       "      <th>gridfins</th>\n",
       "      <th>legs</th>\n",
       "      <th>reused</th>\n",
       "      <th>landing_attempt</th>\n",
       "      <th>landing_success</th>\n",
       "      <th>landing_type</th>\n",
       "      <th>landpad</th>\n",
       "      <th>mass_kg</th>\n",
       "      <th>orbit</th>\n",
       "    </tr>\n",
       "  </thead>\n",
       "  <tbody>\n",
       "    <tr>\n",
       "      <th>0</th>\n",
       "      <td>Falcon 9</td>\n",
       "      <td>5eb0e4b7b6c3bb0006eeb1e7</td>\n",
       "      <td>CCSFS SLC 40</td>\n",
       "      <td>{'core': '5e9e289ef359185f2b3b2628', 'flight': 1, 'gridfins': False, 'legs': False, 'reused': False, 'landing_attempt': False, 'landing_success': None, 'landing_type': None, 'landpad': None}</td>\n",
       "      <td>6</td>\n",
       "      <td>2010-06-04</td>\n",
       "      <td>1</td>\n",
       "      <td>False</td>\n",
       "      <td>False</td>\n",
       "      <td>False</td>\n",
       "      <td>False</td>\n",
       "      <td>None</td>\n",
       "      <td>None</td>\n",
       "      <td>None</td>\n",
       "      <td>5eb0e4b7b6c3bb0006eeb1e7</td>\n",
       "      <td>LEO</td>\n",
       "    </tr>\n",
       "    <tr>\n",
       "      <th>1</th>\n",
       "      <td>Falcon 9</td>\n",
       "      <td>5eb0e4bab6c3bb0006eeb1ea</td>\n",
       "      <td>CCSFS SLC 40</td>\n",
       "      <td>{'core': '5e9e289ef35918f39c3b262a', 'flight': 1, 'gridfins': False, 'legs': False, 'reused': False, 'landing_attempt': False, 'landing_success': None, 'landing_type': None, 'landpad': None}</td>\n",
       "      <td>8</td>\n",
       "      <td>2012-05-22</td>\n",
       "      <td>1</td>\n",
       "      <td>False</td>\n",
       "      <td>False</td>\n",
       "      <td>False</td>\n",
       "      <td>False</td>\n",
       "      <td>None</td>\n",
       "      <td>None</td>\n",
       "      <td>None</td>\n",
       "      <td>525.0</td>\n",
       "      <td>LEO</td>\n",
       "    </tr>\n",
       "    <tr>\n",
       "      <th>2</th>\n",
       "      <td>Falcon 9</td>\n",
       "      <td>5eb0e4bbb6c3bb0006eeb1ed</td>\n",
       "      <td>CCSFS SLC 40</td>\n",
       "      <td>{'core': '5e9e289ff3591884e03b262c', 'flight': 1, 'gridfins': False, 'legs': False, 'reused': False, 'landing_attempt': False, 'landing_success': None, 'landing_type': None, 'landpad': None}</td>\n",
       "      <td>10</td>\n",
       "      <td>2013-03-01</td>\n",
       "      <td>1</td>\n",
       "      <td>False</td>\n",
       "      <td>False</td>\n",
       "      <td>False</td>\n",
       "      <td>False</td>\n",
       "      <td>None</td>\n",
       "      <td>None</td>\n",
       "      <td>None</td>\n",
       "      <td>677.0</td>\n",
       "      <td>ISS</td>\n",
       "    </tr>\n",
       "    <tr>\n",
       "      <th>3</th>\n",
       "      <td>Falcon 9</td>\n",
       "      <td>5eb0e4bbb6c3bb0006eeb1ee</td>\n",
       "      <td>VAFB SLC 4E</td>\n",
       "      <td>{'core': '5e9e289ff359180ae23b262d', 'flight': 1, 'gridfins': False, 'legs': False, 'reused': False, 'landing_attempt': True, 'landing_success': False, 'landing_type': 'Ocean', 'landpad': None}</td>\n",
       "      <td>11</td>\n",
       "      <td>2013-09-29</td>\n",
       "      <td>1</td>\n",
       "      <td>False</td>\n",
       "      <td>False</td>\n",
       "      <td>False</td>\n",
       "      <td>True</td>\n",
       "      <td>False</td>\n",
       "      <td>Ocean</td>\n",
       "      <td>None</td>\n",
       "      <td>500.0</td>\n",
       "      <td>PO</td>\n",
       "    </tr>\n",
       "    <tr>\n",
       "      <th>4</th>\n",
       "      <td>Falcon 9</td>\n",
       "      <td>5eb0e4bbb6c3bb0006eeb1ef</td>\n",
       "      <td>CCSFS SLC 40</td>\n",
       "      <td>{'core': '5e9e289ff35918862c3b262e', 'flight': 1, 'gridfins': False, 'legs': False, 'reused': False, 'landing_attempt': False, 'landing_success': None, 'landing_type': None, 'landpad': None}</td>\n",
       "      <td>12</td>\n",
       "      <td>2013-12-03</td>\n",
       "      <td>1</td>\n",
       "      <td>False</td>\n",
       "      <td>False</td>\n",
       "      <td>False</td>\n",
       "      <td>False</td>\n",
       "      <td>None</td>\n",
       "      <td>None</td>\n",
       "      <td>None</td>\n",
       "      <td>3170.0</td>\n",
       "      <td>GTO</td>\n",
       "    </tr>\n",
       "  </tbody>\n",
       "</table>\n",
       "</div>"
      ],
      "text/plain": [
       "     rocket                  payloads     launchpad  \\\n",
       "0  Falcon 9  5eb0e4b7b6c3bb0006eeb1e7  CCSFS SLC 40   \n",
       "1  Falcon 9  5eb0e4bab6c3bb0006eeb1ea  CCSFS SLC 40   \n",
       "2  Falcon 9  5eb0e4bbb6c3bb0006eeb1ed  CCSFS SLC 40   \n",
       "3  Falcon 9  5eb0e4bbb6c3bb0006eeb1ee   VAFB SLC 4E   \n",
       "4  Falcon 9  5eb0e4bbb6c3bb0006eeb1ef  CCSFS SLC 40   \n",
       "\n",
       "                                                                                                                                                                                               cores  \\\n",
       "0     {'core': '5e9e289ef359185f2b3b2628', 'flight': 1, 'gridfins': False, 'legs': False, 'reused': False, 'landing_attempt': False, 'landing_success': None, 'landing_type': None, 'landpad': None}   \n",
       "1     {'core': '5e9e289ef35918f39c3b262a', 'flight': 1, 'gridfins': False, 'legs': False, 'reused': False, 'landing_attempt': False, 'landing_success': None, 'landing_type': None, 'landpad': None}   \n",
       "2     {'core': '5e9e289ff3591884e03b262c', 'flight': 1, 'gridfins': False, 'legs': False, 'reused': False, 'landing_attempt': False, 'landing_success': None, 'landing_type': None, 'landpad': None}   \n",
       "3  {'core': '5e9e289ff359180ae23b262d', 'flight': 1, 'gridfins': False, 'legs': False, 'reused': False, 'landing_attempt': True, 'landing_success': False, 'landing_type': 'Ocean', 'landpad': None}   \n",
       "4     {'core': '5e9e289ff35918862c3b262e', 'flight': 1, 'gridfins': False, 'legs': False, 'reused': False, 'landing_attempt': False, 'landing_success': None, 'landing_type': None, 'landpad': None}   \n",
       "\n",
       "   flight_number        date flight gridfins   legs reused landing_attempt  \\\n",
       "0              6  2010-06-04      1    False  False  False           False   \n",
       "1              8  2012-05-22      1    False  False  False           False   \n",
       "2             10  2013-03-01      1    False  False  False           False   \n",
       "3             11  2013-09-29      1    False  False  False            True   \n",
       "4             12  2013-12-03      1    False  False  False           False   \n",
       "\n",
       "  landing_success landing_type landpad                   mass_kg orbit  \n",
       "0            None         None    None  5eb0e4b7b6c3bb0006eeb1e7   LEO  \n",
       "1            None         None    None                     525.0   LEO  \n",
       "2            None         None    None                     677.0   ISS  \n",
       "3           False        Ocean    None                     500.0    PO  \n",
       "4            None         None    None                    3170.0   GTO  "
      ]
     },
     "execution_count": 457,
     "metadata": {},
     "output_type": "execute_result"
    }
   ],
   "source": [
    "temp_df.head()"
   ]
  },
  {
   "cell_type": "code",
   "execution_count": 480,
   "id": "a92b6fe3",
   "metadata": {},
   "outputs": [],
   "source": [
    "tempp = temp_df.drop(['payloads','cores'],axis=1)\n",
    "tempp['mass_kg'] = pd.to_numeric(tempp['mass_kg'],errors='coerce')\n",
    "tempp.dropna(subset=['mass_kg'],inplace=True)\n",
    "temp_df = tempp.copy()"
   ]
  },
  {
   "cell_type": "code",
   "execution_count": 493,
   "id": "025ba13e",
   "metadata": {},
   "outputs": [],
   "source": [
    "spacex_df = temp_df.copy()"
   ]
  },
  {
   "cell_type": "code",
   "execution_count": 494,
   "id": "fc09c34d",
   "metadata": {},
   "outputs": [
    {
     "data": {
      "text/plain": [
       "6123.547647058824"
      ]
     },
     "execution_count": 494,
     "metadata": {},
     "output_type": "execute_result"
    }
   ],
   "source": [
    "spacex_df.mass_kg.mean()"
   ]
  },
  {
   "cell_type": "code",
   "execution_count": null,
   "id": "01d6f329",
   "metadata": {},
   "outputs": [],
   "source": []
  }
 ],
 "metadata": {
  "kernelspec": {
   "display_name": "Python 3",
   "language": "python",
   "name": "python3"
  },
  "language_info": {
   "codemirror_mode": {
    "name": "ipython",
    "version": 3
   },
   "file_extension": ".py",
   "mimetype": "text/x-python",
   "name": "python",
   "nbconvert_exporter": "python",
   "pygments_lexer": "ipython3",
   "version": "3.8.8"
  }
 },
 "nbformat": 4,
 "nbformat_minor": 5
}
